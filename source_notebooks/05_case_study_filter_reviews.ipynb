{
 "cells": [
  {
   "cell_type": "markdown",
   "metadata": {},
   "source": [
    "# Extracting desired business reviews\n",
    "In the last notebook we achieved two things. Firstly, we identified the business categories (Italian/Pizza) that our campaign was going to target. Secondly, we identified business IDs associated with those categories. Knowing the business IDs allows us to select just the reviews of interest from the reviews file. Before you go rushing into reading the review data into one big dataframe to then filter just those IDs of interest, as a data scientist you will have first got an idea of the size of the file. The review file is pretty big (nearly six million lines). Unless you have a very good computer with lots of RAM, or you particularly want to fire up your system/memory monitor and watch the free memory fall further and further until your computer seizes, you should be thinking in terms of how to read in only the lines of interest. This way, you only consume the minimum RAM necessary. Of course, in general, even then you should be making some sort of calculation as to whether even this would be within the capabilities of your hardware. In this case, it should be doable for most modernish computers. The task of this notebook is to parse the review data file and save the (much smaller) subset of interest."
   ]
  },
  {
   "cell_type": "code",
   "execution_count": 1,
   "metadata": {},
   "outputs": [],
   "source": [
    "# import the required libraries here\n",
    "import pandas as pd\n",
    "import matplotlib.pyplot as plt"
   ]
  },
  {
   "cell_type": "markdown",
   "metadata": {},
   "source": [
    "## List of required business IDs\n",
    "First we need to read in the list of business IDs we obtained previously."
   ]
  },
  {
   "cell_type": "code",
   "execution_count": 2,
   "metadata": {},
   "outputs": [],
   "source": [
    "# task: read in our previously created file that contains the business IDs of interest\n",
    "# one line\n",
    "businesses = pd.read_csv('business_list.csv')"
   ]
  },
  {
   "cell_type": "markdown",
   "metadata": {},
   "source": [
    "It's a good idea to have a quick check first."
   ]
  },
  {
   "cell_type": "code",
   "execution_count": 3,
   "metadata": {},
   "outputs": [
    {
     "data": {
      "text/html": [
       "<div>\n",
       "<style scoped>\n",
       "    .dataframe tbody tr th:only-of-type {\n",
       "        vertical-align: middle;\n",
       "    }\n",
       "\n",
       "    .dataframe tbody tr th {\n",
       "        vertical-align: top;\n",
       "    }\n",
       "\n",
       "    .dataframe thead th {\n",
       "        text-align: right;\n",
       "    }\n",
       "</style>\n",
       "<table border=\"1\" class=\"dataframe\">\n",
       "  <thead>\n",
       "    <tr style=\"text-align: right;\">\n",
       "      <th></th>\n",
       "      <th>business_id</th>\n",
       "      <th>review_count</th>\n",
       "      <th>stars</th>\n",
       "      <th>state</th>\n",
       "    </tr>\n",
       "  </thead>\n",
       "  <tbody>\n",
       "    <tr>\n",
       "      <th>0</th>\n",
       "      <td>ZkzutF0P_u0C0yTulwaHkA</td>\n",
       "      <td>31</td>\n",
       "      <td>4.0</td>\n",
       "      <td>PA</td>\n",
       "    </tr>\n",
       "    <tr>\n",
       "      <th>1</th>\n",
       "      <td>OWkS1FXNJbozn-qPg3LWxg</td>\n",
       "      <td>11</td>\n",
       "      <td>4.5</td>\n",
       "      <td>NV</td>\n",
       "    </tr>\n",
       "    <tr>\n",
       "      <th>2</th>\n",
       "      <td>6GHwgKNlvfIMUpFaxgBjUA</td>\n",
       "      <td>9</td>\n",
       "      <td>4.0</td>\n",
       "      <td>QC</td>\n",
       "    </tr>\n",
       "    <tr>\n",
       "      <th>3</th>\n",
       "      <td>-C0AlwLuXpcP609madJZQQ</td>\n",
       "      <td>7</td>\n",
       "      <td>3.5</td>\n",
       "      <td>ON</td>\n",
       "    </tr>\n",
       "    <tr>\n",
       "      <th>4</th>\n",
       "      <td>39lLJK_rrYY2NYomSsQdUA</td>\n",
       "      <td>11</td>\n",
       "      <td>2.5</td>\n",
       "      <td>OH</td>\n",
       "    </tr>\n",
       "  </tbody>\n",
       "</table>\n",
       "</div>"
      ],
      "text/plain": [
       "              business_id  review_count  stars state\n",
       "0  ZkzutF0P_u0C0yTulwaHkA            31    4.0    PA\n",
       "1  OWkS1FXNJbozn-qPg3LWxg            11    4.5    NV\n",
       "2  6GHwgKNlvfIMUpFaxgBjUA             9    4.0    QC\n",
       "3  -C0AlwLuXpcP609madJZQQ             7    3.5    ON\n",
       "4  39lLJK_rrYY2NYomSsQdUA            11    2.5    OH"
      ]
     },
     "execution_count": 3,
     "metadata": {},
     "output_type": "execute_result"
    }
   ],
   "source": [
    "businesses.head()"
   ]
  },
  {
   "cell_type": "markdown",
   "metadata": {},
   "source": [
    "We want to grab just the business_id column as a list. It's worth also then double checking it matches the business_id column above."
   ]
  },
  {
   "cell_type": "code",
   "execution_count": 4,
   "metadata": {},
   "outputs": [
    {
     "name": "stdout",
     "output_type": "stream",
     "text": [
      "['ZkzutF0P_u0C0yTulwaHkA' 'OWkS1FXNJbozn-qPg3LWxg'\n",
      " '6GHwgKNlvfIMUpFaxgBjUA' '-C0AlwLuXpcP609madJZQQ'\n",
      " '39lLJK_rrYY2NYomSsQdUA']\n"
     ]
    }
   ],
   "source": [
    "business_ids = businesses['business_id'].values\n",
    "print(business_ids[:5])"
   ]
  },
  {
   "cell_type": "markdown",
   "metadata": {},
   "source": [
    "## Filtering a large data file in chunks\n",
    "The review data file comprises some nearly 6 million lines. We don't want all of those lines. Our general approach will be to read through the file and check the business_id in each row. If this ID is contained in our list of wanted IDs, we will keep that row. It will be fastest, but most expensive for memory, to read the entire file from disk in one go and then filter the rows in memory. At the other extreme it will be most memory efficient to read in one record at a time, check whether we want it or not (and discard if not), but slowest. We will strike a balance where we choose a sufficiently large chunksize that still fits easily in memory but whereby we don't need to read in too many chunks."
   ]
  },
  {
   "cell_type": "code",
   "execution_count": 5,
   "metadata": {},
   "outputs": [],
   "source": [
    "# For convenience here, again we are accessing the data in the working directory that contains our notebooks.\n",
    "# Normal best practise is to keep your data separate, but this keeps things simple here.\n",
    "# If you're comfortable specifying a filepath to files outside of this working directory, then feel free to do so.\n",
    "# task: create a reader object for the review json file\n",
    "# Hint: use lines=True as before but add the chunksize=100000 parameter\n",
    "# one line of code here\n",
    "review_reader = pd.read_json('yelp_academic_dataset_review.json', lines=True, chunksize=100000)"
   ]
  },
  {
   "cell_type": "markdown",
   "metadata": {},
   "source": [
    "We use the time magic for the next cell, out of interest, to time how long it takes. If you have the time and are curious, you're welcome to play around with the chunksize and monitor your system memory use and the time this cell takes, but _caveat emptor_! I suggest you save your notebook before running this cell, just in case."
   ]
  },
  {
   "cell_type": "code",
   "execution_count": 6,
   "metadata": {},
   "outputs": [
    {
     "name": "stdout",
     "output_type": "stream",
     "text": [
      "Wall time: 31min 8s\n"
     ]
    }
   ],
   "source": [
    "%%time\n",
    "# task: process the file one chunk at a time,\n",
    "# filter that chunk for rows with a business_id in business_ids\n",
    "# You can either do this within in a loop, having initialized an empty list,\n",
    "# or using a more pythonic list comprehension\n",
    "reviews = [review.loc[review['business_id'].apply(lambda x: x in business_ids)] for review in review_reader]\n",
    "# (this took some 24 minutes on my old i7)"
   ]
  },
  {
   "cell_type": "markdown",
   "metadata": {},
   "source": [
    "All being well, you now have the desired reviews read in. But we don't yet have them in a convenient DataFrame:"
   ]
  },
  {
   "cell_type": "code",
   "execution_count": 7,
   "metadata": {},
   "outputs": [
    {
     "data": {
      "text/plain": [
       "list"
      ]
     },
     "execution_count": 7,
     "metadata": {},
     "output_type": "execute_result"
    }
   ],
   "source": [
    "type(reviews)"
   ]
  },
  {
   "cell_type": "code",
   "execution_count": 8,
   "metadata": {},
   "outputs": [
    {
     "data": {
      "text/plain": [
       "81"
      ]
     },
     "execution_count": 8,
     "metadata": {},
     "output_type": "execute_result"
    }
   ],
   "source": [
    "len(reviews)"
   ]
  },
  {
   "cell_type": "markdown",
   "metadata": {},
   "source": [
    "Convert your reviews into a DataFrame now. _Hint: you may find pandas concat method useful here._"
   ]
  },
  {
   "cell_type": "code",
   "execution_count": 9,
   "metadata": {},
   "outputs": [],
   "source": [
    "# task convert your reviews into a DataFrame\n",
    "# one line of code here\n",
    "reviews = pd.concat(reviews)"
   ]
  },
  {
   "cell_type": "code",
   "execution_count": 10,
   "metadata": {},
   "outputs": [
    {
     "data": {
      "text/plain": [
       "(712958, 9)"
      ]
     },
     "execution_count": 10,
     "metadata": {},
     "output_type": "execute_result"
    }
   ],
   "source": [
    "reviews.shape"
   ]
  },
  {
   "cell_type": "code",
   "execution_count": 11,
   "metadata": {},
   "outputs": [
    {
     "data": {
      "text/html": [
       "<div>\n",
       "<style scoped>\n",
       "    .dataframe tbody tr th:only-of-type {\n",
       "        vertical-align: middle;\n",
       "    }\n",
       "\n",
       "    .dataframe tbody tr th {\n",
       "        vertical-align: top;\n",
       "    }\n",
       "\n",
       "    .dataframe thead th {\n",
       "        text-align: right;\n",
       "    }\n",
       "</style>\n",
       "<table border=\"1\" class=\"dataframe\">\n",
       "  <thead>\n",
       "    <tr style=\"text-align: right;\">\n",
       "      <th></th>\n",
       "      <th>business_id</th>\n",
       "      <th>cool</th>\n",
       "      <th>date</th>\n",
       "      <th>funny</th>\n",
       "      <th>review_id</th>\n",
       "      <th>stars</th>\n",
       "      <th>text</th>\n",
       "      <th>useful</th>\n",
       "      <th>user_id</th>\n",
       "    </tr>\n",
       "  </thead>\n",
       "  <tbody>\n",
       "    <tr>\n",
       "      <th>8</th>\n",
       "      <td>e_BiI4ej1CW1F0EyVLr-FQ</td>\n",
       "      <td>0</td>\n",
       "      <td>2015-02-16 06:48:47</td>\n",
       "      <td>0</td>\n",
       "      <td>JA-xnyHytKiOIHl_ztnK9Q</td>\n",
       "      <td>5</td>\n",
       "      <td>Most delicious authentic Italian I've had in t...</td>\n",
       "      <td>0</td>\n",
       "      <td>P6apihD4ASf1vpPxHODxAQ</td>\n",
       "    </tr>\n",
       "    <tr>\n",
       "      <th>25</th>\n",
       "      <td>qUWqjjjfpB2-4P3He5rsKw</td>\n",
       "      <td>0</td>\n",
       "      <td>2017-06-06 19:04:10</td>\n",
       "      <td>0</td>\n",
       "      <td>mM8i91yWP1QbImEvz5ds0w</td>\n",
       "      <td>4</td>\n",
       "      <td>In the heart of Chinatown, I discovered it enr...</td>\n",
       "      <td>0</td>\n",
       "      <td>TZQSUDDcA4ek5gBd6BzcjA</td>\n",
       "    </tr>\n",
       "    <tr>\n",
       "      <th>27</th>\n",
       "      <td>wkzWdo1mBqbzR2KPoXtWZw</td>\n",
       "      <td>0</td>\n",
       "      <td>2010-08-21 01:19:17</td>\n",
       "      <td>0</td>\n",
       "      <td>09qxjFi4abaW66JeSLazuQ</td>\n",
       "      <td>4</td>\n",
       "      <td>Was a Chicago style deep dish.  Homemade type ...</td>\n",
       "      <td>1</td>\n",
       "      <td>mbdtyUUzZZx5ld1Qc4iGtQ</td>\n",
       "    </tr>\n",
       "    <tr>\n",
       "      <th>28</th>\n",
       "      <td>r4HkiC71nB9k8Fe8zIORFQ</td>\n",
       "      <td>1</td>\n",
       "      <td>2015-12-05 02:16:06</td>\n",
       "      <td>0</td>\n",
       "      <td>K-wdPGHbErfxbKK6PetrmA</td>\n",
       "      <td>5</td>\n",
       "      <td>First time eating there and everything was so ...</td>\n",
       "      <td>1</td>\n",
       "      <td>FCoXqPxuI7GRBYyzJIwVxw</td>\n",
       "    </tr>\n",
       "    <tr>\n",
       "      <th>44</th>\n",
       "      <td>9Eghhu_LzEJgDKNgisf3rg</td>\n",
       "      <td>0</td>\n",
       "      <td>2016-08-25 16:25:12</td>\n",
       "      <td>0</td>\n",
       "      <td>nAm92_-WUQ084x9Uz9iFmA</td>\n",
       "      <td>3</td>\n",
       "      <td>Was super excited to bring my boyfriend to thi...</td>\n",
       "      <td>0</td>\n",
       "      <td>iFEM16O5BeKvf_AHs6NzUQ</td>\n",
       "    </tr>\n",
       "  </tbody>\n",
       "</table>\n",
       "</div>"
      ],
      "text/plain": [
       "               business_id  cool                date  funny  \\\n",
       "8   e_BiI4ej1CW1F0EyVLr-FQ     0 2015-02-16 06:48:47      0   \n",
       "25  qUWqjjjfpB2-4P3He5rsKw     0 2017-06-06 19:04:10      0   \n",
       "27  wkzWdo1mBqbzR2KPoXtWZw     0 2010-08-21 01:19:17      0   \n",
       "28  r4HkiC71nB9k8Fe8zIORFQ     1 2015-12-05 02:16:06      0   \n",
       "44  9Eghhu_LzEJgDKNgisf3rg     0 2016-08-25 16:25:12      0   \n",
       "\n",
       "                 review_id  stars  \\\n",
       "8   JA-xnyHytKiOIHl_ztnK9Q      5   \n",
       "25  mM8i91yWP1QbImEvz5ds0w      4   \n",
       "27  09qxjFi4abaW66JeSLazuQ      4   \n",
       "28  K-wdPGHbErfxbKK6PetrmA      5   \n",
       "44  nAm92_-WUQ084x9Uz9iFmA      3   \n",
       "\n",
       "                                                 text  useful  \\\n",
       "8   Most delicious authentic Italian I've had in t...       0   \n",
       "25  In the heart of Chinatown, I discovered it enr...       0   \n",
       "27  Was a Chicago style deep dish.  Homemade type ...       1   \n",
       "28  First time eating there and everything was so ...       1   \n",
       "44  Was super excited to bring my boyfriend to thi...       0   \n",
       "\n",
       "                   user_id  \n",
       "8   P6apihD4ASf1vpPxHODxAQ  \n",
       "25  TZQSUDDcA4ek5gBd6BzcjA  \n",
       "27  mbdtyUUzZZx5ld1Qc4iGtQ  \n",
       "28  FCoXqPxuI7GRBYyzJIwVxw  \n",
       "44  iFEM16O5BeKvf_AHs6NzUQ  "
      ]
     },
     "execution_count": 11,
     "metadata": {},
     "output_type": "execute_result"
    }
   ],
   "source": [
    "reviews.head()"
   ]
  },
  {
   "cell_type": "markdown",
   "metadata": {},
   "source": [
    "## Save the output\n",
    "Having done all this hard work filtering our review file, and documenting the process in this notebook, we need to save the output. Go ahead and save the reviews DataFrame to a csv called 'reviews_filtered.csv'."
   ]
  },
  {
   "cell_type": "code",
   "execution_count": 12,
   "metadata": {},
   "outputs": [],
   "source": [
    "# task: save the DataFrame to the specified file now.\n",
    "# don't forget to use index=False\n",
    "reviews.to_csv('reviews_filtered.csv', index=False)"
   ]
  },
  {
   "cell_type": "markdown",
   "metadata": {},
   "source": [
    "If you inspect the file listing for the original json file and our new csv file, you should see we've gone from around 4.4 GB down to 325 MB. This is much more manageable!"
   ]
  },
  {
   "cell_type": "markdown",
   "metadata": {},
   "source": [
    "# Summary\n",
    "Great work! So far in our project you've seen how to break a problem down and identify relevant data, use data to gain insight and make a decision, and then leverage that knowledge to extract a desired subset of data from an otherwise unmanageable larger file. In the next notebook we'll dive into this data."
   ]
  }
 ],
 "metadata": {
  "kernelspec": {
   "display_name": "Python 3",
   "language": "python",
   "name": "python3"
  },
  "language_info": {
   "codemirror_mode": {
    "name": "ipython",
    "version": 3
   },
   "file_extension": ".py",
   "mimetype": "text/x-python",
   "name": "python",
   "nbconvert_exporter": "python",
   "pygments_lexer": "ipython3",
   "version": "3.7.3"
  }
 },
 "nbformat": 4,
 "nbformat_minor": 2
}
